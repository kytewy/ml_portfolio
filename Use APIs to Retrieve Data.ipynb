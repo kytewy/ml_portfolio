{
 "cells": [
  {
   "cell_type": "code",
   "execution_count": 1,
   "metadata": {},
   "outputs": [
    {
     "data": {
      "text/plain": [
       "\"Qaundl has a large number of data sources, but, unfortunately, \\nmost of them require a Premium subscription. Still, there are also a good number of free datasets.\\n\\nFor this mini project, we will focus on equities data from the Frankfurt Stock Exhange (FSE), \\nwhich is available for free. We'll try and analyze the stock prices of a company called Carl Zeiss Meditec, \\nwhich manufactures tools for eye examinations, as well as medical lasers for laser eye surgery: \\nhttps://www.zeiss.com/meditec/int/home.html. The company is listed under the stock ticker AFX_X.\\n\""
      ]
     },
     "execution_count": 1,
     "metadata": {},
     "output_type": "execute_result"
    }
   ],
   "source": [
    "'''Qaundl has a large number of data sources, but, unfortunately, \n",
    "most of them require a Premium subscription. Still, there are also a good number of free datasets.\n",
    "\n",
    "For this mini project, we will focus on equities data from the Frankfurt Stock Exhange (FSE), \n",
    "which is available for free. We'll try and analyze the stock prices of a company called Carl Zeiss Meditec, \n",
    "which manufactures tools for eye examinations, as well as medical lasers for laser eye surgery: \n",
    "https://www.zeiss.com/meditec/int/home.html. The company is listed under the stock ticker AFX_X.\n",
    "'''"
   ]
  },
  {
   "cell_type": "code",
   "execution_count": 2,
   "metadata": {},
   "outputs": [],
   "source": [
    "#Getting the API Key\n",
    "import configparser\n",
    "\n",
    "config = configparser.ConfigParser()\n",
    "config.read('api_key.ini')\n",
    "key = config['default']['API_KEY']"
   ]
  },
  {
   "cell_type": "code",
   "execution_count": 3,
   "metadata": {},
   "outputs": [],
   "source": [
    "# First, import the relevant modules\n",
    "import requests\n",
    "import quandl"
   ]
  },
  {
   "cell_type": "code",
   "execution_count": 4,
   "metadata": {},
   "outputs": [],
   "source": [
    "quandl.ApiConfig.api_key = key\n",
    "# quandl.get('BUNDESBANK/BBQFS_A_DE_LIFE_NET_RET_INV_MILD__X_0000', start_date='2025-12-31', end_date='2025-12-31')\n",
    "\n",
    "#Using the quandl package\n",
    "data = quandl.get(\"EURONEXT/ZENT\", authtoken=\"oiWygn9bNzAHbakeoXFz\")"
   ]
  },
  {
   "cell_type": "code",
   "execution_count": 5,
   "metadata": {},
   "outputs": [
    {
     "data": {
      "text/html": [
       "<div>\n",
       "<style scoped>\n",
       "    .dataframe tbody tr th:only-of-type {\n",
       "        vertical-align: middle;\n",
       "    }\n",
       "\n",
       "    .dataframe tbody tr th {\n",
       "        vertical-align: top;\n",
       "    }\n",
       "\n",
       "    .dataframe thead th {\n",
       "        text-align: right;\n",
       "    }\n",
       "</style>\n",
       "<table border=\"1\" class=\"dataframe\">\n",
       "  <thead>\n",
       "    <tr style=\"text-align: right;\">\n",
       "      <th></th>\n",
       "      <th>Open</th>\n",
       "      <th>High</th>\n",
       "      <th>Low</th>\n",
       "      <th>Last</th>\n",
       "      <th>Volume</th>\n",
       "      <th>Turnover</th>\n",
       "    </tr>\n",
       "    <tr>\n",
       "      <th>Date</th>\n",
       "      <th></th>\n",
       "      <th></th>\n",
       "      <th></th>\n",
       "      <th></th>\n",
       "      <th></th>\n",
       "      <th></th>\n",
       "    </tr>\n",
       "  </thead>\n",
       "  <tbody>\n",
       "    <tr>\n",
       "      <th>2014-02-14</th>\n",
       "      <td>0.78</td>\n",
       "      <td>0.8</td>\n",
       "      <td>0.78</td>\n",
       "      <td>0.8</td>\n",
       "      <td>25910.0</td>\n",
       "      <td>20574.48</td>\n",
       "    </tr>\n",
       "  </tbody>\n",
       "</table>\n",
       "</div>"
      ],
      "text/plain": [
       "            Open  High   Low  Last   Volume  Turnover\n",
       "Date                                                 \n",
       "2014-02-14  0.78   0.8  0.78   0.8  25910.0  20574.48"
      ]
     },
     "execution_count": 5,
     "metadata": {},
     "output_type": "execute_result"
    }
   ],
   "source": [
    "# Now, call the Quandl API and pull out a small sample of the data (only one day) to get a glimpse\n",
    "# into the JSON structure that will be returned\n",
    "data.head(1)"
   ]
  },
  {
   "cell_type": "code",
   "execution_count": 6,
   "metadata": {},
   "outputs": [
    {
     "data": {
      "text/plain": [
       "['2021-04-21', 23.4, 23.4, 23.4, 23.4, 49.0, 1147.0]"
      ]
     },
     "execution_count": 6,
     "metadata": {},
     "output_type": "execute_result"
    }
   ],
   "source": [
    "# Inspect the JSON structure of the object you created, and take note of how nested it is,\n",
    "# as well as the overall structure\n",
    "response = requests.get('https://www.quandl.com/api/v3/datasets/EURONEXT/ZENT.json?api_key=oiWygn9bNzAHbakeoXFz')\n",
    "json_response = response.json()\n",
    "json_response['dataset']['data'][0]"
   ]
  },
  {
   "cell_type": "code",
   "execution_count": 7,
   "metadata": {},
   "outputs": [
    {
     "data": {
      "text/plain": [
       "'\\nThese are your tasks for this mini project:\\n\\n1.) Collect data from the Franfurt Stock Exchange, for the ticker AFX_X, for the whole year 2017 (keep in mind that the date format is YYYY-MM-DD).\\n2.) Convert the returned JSON object into a Python dictionary.\\n3.) Calculate what the highest and lowest opening prices were for the stock in this period.\\n4.) What was the largest change in any one day (based on High and Low price)?\\n5.) What was the largest change between any two days (based on Closing Price)?\\n6.) What was the average daily trading volume during this year?\\n7.) (Optional) What was the median trading volume during this year. (Note: you may need to implement your own function for calculating the median.)\\n\\n'"
      ]
     },
     "execution_count": 7,
     "metadata": {},
     "output_type": "execute_result"
    }
   ],
   "source": [
    "'''\n",
    "These are your tasks for this mini project:\n",
    "\n",
    "1.) Collect data from the Franfurt Stock Exchange, for the ticker AFX_X, for the whole year 2017 (keep in mind that the date format is YYYY-MM-DD).\n",
    "2.) Convert the returned JSON object into a Python dictionary.\n",
    "3.) Calculate what the highest and lowest opening prices were for the stock in this period.\n",
    "4.) What was the largest change in any one day (based on High and Low price)?\n",
    "5.) What was the largest change between any two days (based on Closing Price)?\n",
    "6.) What was the average daily trading volume during this year?\n",
    "7.) (Optional) What was the median trading volume during this year. (Note: you may need to implement your own function for calculating the median.)\n",
    "\n",
    "'''"
   ]
  },
  {
   "cell_type": "code",
   "execution_count": 8,
   "metadata": {},
   "outputs": [],
   "source": [
    "# 1.) Collect data from the Franfurt Stock Exchange, \n",
    "# for the ticker AFX_X, for the whole year 2017 (keep in mind that the date format is YYYY-MM-DD)."
   ]
  }
 ],
 "metadata": {
  "kernelspec": {
   "display_name": "Python 3",
   "language": "python",
   "name": "python3"
  },
  "language_info": {
   "codemirror_mode": {
    "name": "ipython",
    "version": 3
   },
   "file_extension": ".py",
   "mimetype": "text/x-python",
   "name": "python",
   "nbconvert_exporter": "python",
   "pygments_lexer": "ipython3",
   "version": "3.8.5"
  }
 },
 "nbformat": 4,
 "nbformat_minor": 4
}
