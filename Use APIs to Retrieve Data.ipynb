{
 "cells": [
  {
   "cell_type": "code",
   "execution_count": null,
   "metadata": {},
   "outputs": [],
   "source": [
    "'''Qaundl has a large number of data sources, but, unfortunately, \n",
    "most of them require a Premium subscription. Still, there are also a good number of free datasets.\n",
    "\n",
    "For this mini project, we will focus on equities data from the Frankfurt Stock Exhange (FSE), \n",
    "which is available for free. We'll try and analyze the stock prices of a company called Carl Zeiss Meditec, \n",
    "which manufactures tools for eye examinations, as well as medical lasers for laser eye surgery: \n",
    "https://www.zeiss.com/meditec/int/home.html. The company is listed under the stock ticker AFX_X.\n",
    "'''"
   ]
  },
  {
   "cell_type": "code",
   "execution_count": null,
   "metadata": {},
   "outputs": [],
   "source": [
    "'''\n",
    "These are your tasks for this mini project:\n",
    "\n",
    "1.) Collect data from the Franfurt Stock Exchange, for the ticker AFX_X, for the whole year 2017 (keep in mind that the date format is YYYY-MM-DD).\n",
    "2.) Convert the returned JSON object into a Python dictionary.\n",
    "3.) Calculate what the highest and lowest opening prices were for the stock in this period.\n",
    "4.) What was the largest change in any one day (based on High and Low price)?\n",
    "5.) What was the largest change between any two days (based on Closing Price)?\n",
    "6.) What was the average daily trading volume during this year?\n",
    "7.) (Optional) What was the median trading volume during this year. (Note: you may need to implement your own function for calculating the median.)\n",
    "\n",
    "'''"
   ]
  },
  {
   "cell_type": "code",
   "execution_count": 17,
   "metadata": {},
   "outputs": [],
   "source": [
    "#Getting the API Key and relevant modules\n",
    "import configparser\n",
    "import requests\n",
    "\n",
    "config = configparser.ConfigParser()\n",
    "config.read('api_key.ini')\n",
    "API_KEY = config['default']['API_KEY']"
   ]
  },
  {
   "cell_type": "code",
   "execution_count": 18,
   "metadata": {},
   "outputs": [],
   "source": [
    "# Inspect the JSON structure of the object you created, and take note of how nested it is,\n",
    "# as well as the overall structure\n",
    "\n",
    "# 1. Collect data from the Franfurt Stock Exchange, for the ticker AFX_X, for the whole year 2017 (keep in mind that \n",
    "# the date format is YYYY-MM-DD).\n",
    "r = requests.get(\"https://www.quandl.com/api/v3/datasets/FSE/AFX_X.json?start_date=2017-01-01&end_date=2017-12-31&api_key=\" + API_KEY)\n",
    "json_data = r.json()"
   ]
  },
  {
   "cell_type": "code",
   "execution_count": 5,
   "metadata": {},
   "outputs": [
    {
     "data": {
      "text/html": [
       "<div>\n",
       "<style scoped>\n",
       "    .dataframe tbody tr th:only-of-type {\n",
       "        vertical-align: middle;\n",
       "    }\n",
       "\n",
       "    .dataframe tbody tr th {\n",
       "        vertical-align: top;\n",
       "    }\n",
       "\n",
       "    .dataframe thead th {\n",
       "        text-align: right;\n",
       "    }\n",
       "</style>\n",
       "<table border=\"1\" class=\"dataframe\">\n",
       "  <thead>\n",
       "    <tr style=\"text-align: right;\">\n",
       "      <th></th>\n",
       "      <th>Date</th>\n",
       "      <th>Open</th>\n",
       "      <th>High</th>\n",
       "      <th>Low</th>\n",
       "      <th>Close</th>\n",
       "      <th>Change</th>\n",
       "      <th>Traded Volume</th>\n",
       "      <th>Turnover</th>\n",
       "      <th>Last Price of the Day</th>\n",
       "      <th>Daily Traded Units</th>\n",
       "      <th>Daily Turnover</th>\n",
       "    </tr>\n",
       "  </thead>\n",
       "  <tbody>\n",
       "    <tr>\n",
       "      <th>0</th>\n",
       "      <td>2017-12-29</td>\n",
       "      <td>51.76</td>\n",
       "      <td>51.94</td>\n",
       "      <td>51.45</td>\n",
       "      <td>51.76</td>\n",
       "      <td>NaN</td>\n",
       "      <td>34640.0</td>\n",
       "      <td>1792304.0</td>\n",
       "      <td>None</td>\n",
       "      <td>None</td>\n",
       "      <td>None</td>\n",
       "    </tr>\n",
       "    <tr>\n",
       "      <th>1</th>\n",
       "      <td>2017-12-28</td>\n",
       "      <td>51.65</td>\n",
       "      <td>51.82</td>\n",
       "      <td>51.43</td>\n",
       "      <td>51.60</td>\n",
       "      <td>NaN</td>\n",
       "      <td>40660.0</td>\n",
       "      <td>2099024.0</td>\n",
       "      <td>None</td>\n",
       "      <td>None</td>\n",
       "      <td>None</td>\n",
       "    </tr>\n",
       "    <tr>\n",
       "      <th>2</th>\n",
       "      <td>2017-12-27</td>\n",
       "      <td>51.45</td>\n",
       "      <td>51.89</td>\n",
       "      <td>50.76</td>\n",
       "      <td>51.82</td>\n",
       "      <td>NaN</td>\n",
       "      <td>57452.0</td>\n",
       "      <td>2957018.0</td>\n",
       "      <td>None</td>\n",
       "      <td>None</td>\n",
       "      <td>None</td>\n",
       "    </tr>\n",
       "    <tr>\n",
       "      <th>3</th>\n",
       "      <td>2017-12-22</td>\n",
       "      <td>51.05</td>\n",
       "      <td>51.50</td>\n",
       "      <td>50.92</td>\n",
       "      <td>51.32</td>\n",
       "      <td>NaN</td>\n",
       "      <td>71165.0</td>\n",
       "      <td>3641949.0</td>\n",
       "      <td>None</td>\n",
       "      <td>None</td>\n",
       "      <td>None</td>\n",
       "    </tr>\n",
       "    <tr>\n",
       "      <th>4</th>\n",
       "      <td>2017-12-21</td>\n",
       "      <td>51.16</td>\n",
       "      <td>51.52</td>\n",
       "      <td>50.90</td>\n",
       "      <td>51.40</td>\n",
       "      <td>NaN</td>\n",
       "      <td>120649.0</td>\n",
       "      <td>6179433.0</td>\n",
       "      <td>None</td>\n",
       "      <td>None</td>\n",
       "      <td>None</td>\n",
       "    </tr>\n",
       "  </tbody>\n",
       "</table>\n",
       "</div>"
      ],
      "text/plain": [
       "         Date   Open   High    Low  Close  Change  Traded Volume   Turnover  \\\n",
       "0  2017-12-29  51.76  51.94  51.45  51.76     NaN        34640.0  1792304.0   \n",
       "1  2017-12-28  51.65  51.82  51.43  51.60     NaN        40660.0  2099024.0   \n",
       "2  2017-12-27  51.45  51.89  50.76  51.82     NaN        57452.0  2957018.0   \n",
       "3  2017-12-22  51.05  51.50  50.92  51.32     NaN        71165.0  3641949.0   \n",
       "4  2017-12-21  51.16  51.52  50.90  51.40     NaN       120649.0  6179433.0   \n",
       "\n",
       "  Last Price of the Day Daily Traded Units Daily Turnover  \n",
       "0                  None               None           None  \n",
       "1                  None               None           None  \n",
       "2                  None               None           None  \n",
       "3                  None               None           None  \n",
       "4                  None               None           None  "
      ]
     },
     "execution_count": 5,
     "metadata": {},
     "output_type": "execute_result"
    }
   ],
   "source": [
    "# Creating a pandas DataFrame to check my answers\n",
    "import pandas as pd\n",
    "\n",
    "json_data_cols = json_data[\"dataset\"][\"column_names\"]\n",
    "json_data_rows = json_data[\"dataset\"][\"data\"]\n",
    "df = pd.DataFrame(json_data_rows, columns=json_data_cols)\n",
    "df.head()"
   ]
  },
  {
   "cell_type": "code",
   "execution_count": 7,
   "metadata": {},
   "outputs": [
    {
     "data": {
      "text/plain": [
       "dict"
      ]
     },
     "execution_count": 7,
     "metadata": {},
     "output_type": "execute_result"
    }
   ],
   "source": [
    "# 2. Convert the returned JSON object into a Python dictionary.\n",
    "type(json_data)"
   ]
  },
  {
   "cell_type": "code",
   "execution_count": 16,
   "metadata": {},
   "outputs": [],
   "source": [
    "# json_data"
   ]
  },
  {
   "cell_type": "code",
   "execution_count": 15,
   "metadata": {},
   "outputs": [
    {
     "name": "stdout",
     "output_type": "stream",
     "text": [
      "Highest opening price was $53.11\n",
      "Lowest opening price was $34.0\n"
     ]
    }
   ],
   "source": [
    "# 3. Calculate what the highest and lowest opening prices were for the stock in this period.\n",
    "open_prices = [daily[1] for daily in json_data['dataset']['data'] if daily[1] != None]\n",
    "max_open = str(max(open_prices))\n",
    "min_open = str(min(open_prices))\n",
    "print('Highest opening price was $' + max_open)\n",
    "print('Lowest opening price was $' + min_open)\n",
    "\n",
    "# Using the pandas DataFrame to check my answers\n",
    "# df_max_open = df[[\"Date\",\"Open\"]][df.Open == df.Open.max()]\n",
    "# df_min_open = df[[\"Date\",\"Open\"]][df.Open == df.Open.min()]\n",
    "# print(df_max_open)\n",
    "# print(df_min_open)"
   ]
  },
  {
   "cell_type": "code",
   "execution_count": 11,
   "metadata": {},
   "outputs": [
    {
     "name": "stdout",
     "output_type": "stream",
     "text": [
      "The largest one day change was $2.81\n"
     ]
    }
   ],
   "source": [
    "# 4. What was the largest change in any one day (based on High and Low price)?\n",
    "daily_change = [daily[2]-daily[3] for daily in json_data['dataset']['data'] if daily[2:3] != None]\n",
    "largest_change = str(round(max(daily_change), 2))\n",
    "print('The largest one day change was $' + largest_change)\n",
    "\n",
    "# Using the pandas DataFrame to check my answers\n",
    "# df_daily_max = df[[\"Date\",\"High\",\"Low\"]][(df.High - df.Low) == (df.High - df.Low).max()]\n",
    "# df_largest_change = df_daily_max[\"High\"] - df_daily_max[\"Low\"]\n",
    "# df_largest_change"
   ]
  },
  {
   "cell_type": "code",
   "execution_count": 12,
   "metadata": {},
   "outputs": [
    {
     "name": "stdout",
     "output_type": "stream",
     "text": [
      "The largest two day change based on closing price was $2.56\n"
     ]
    }
   ],
   "source": [
    "# 5. What was the largest change between any two days (based on Closing Price)?\n",
    "close_prices = [daily[4] for daily in json_data['dataset']['data'] if daily[4] != None]\n",
    "change = [x - close_prices[i-1] for i,x in enumerate(close_prices)][1:]\n",
    "pos_change = [abs(num) for num in change]\n",
    "largest_close_change = str(round(max(pos_change), 2))\n",
    "print('The largest two day change based on closing price was $' + str(largest_close_change))\n",
    "\n",
    "# Using the pandas DataFrame to check my answers\n",
    "# id_list = df.index[df.Close.diff().abs() == df.Close.diff().abs().max()].tolist()\n",
    "# id_list.insert(0, id_list[0] - 1)\n",
    "# df_close_delta_max = df.loc[id_list,[\"Date\",\"Close\"]]\n",
    "# df_close_delta_max[\"Diff\"] = df_close_delta_max.Close.diff().abs()\n",
    "# print(df_close_delta_max)"
   ]
  },
  {
   "cell_type": "code",
   "execution_count": 13,
   "metadata": {},
   "outputs": [
    {
     "name": "stdout",
     "output_type": "stream",
     "text": [
      "The average daily trading volume 89124\n"
     ]
    }
   ],
   "source": [
    "# 6. What was the average daily trading volume during this year?\n",
    "daily_trading_volume = [daily[6] for daily in json_data['dataset']['data'] if daily[6] != None]\n",
    "average = (sum(daily_trading_volume)/len(daily_trading_volume))\n",
    "average = str(round(average))\n",
    "print('The average daily trading volume ' + average)\n",
    "\n",
    "# Using the pandas DataFrame to check my answers\n",
    "# df_vol_avg = df[\"Traded Volume\"].mean()\n",
    "# print(df_vol_avg)"
   ]
  }
 ],
 "metadata": {
  "kernelspec": {
   "display_name": "Python 3",
   "language": "python",
   "name": "python3"
  },
  "language_info": {
   "codemirror_mode": {
    "name": "ipython",
    "version": 3
   },
   "file_extension": ".py",
   "mimetype": "text/x-python",
   "name": "python",
   "nbconvert_exporter": "python",
   "pygments_lexer": "ipython3",
   "version": "3.8.5"
  }
 },
 "nbformat": 4,
 "nbformat_minor": 4
}
